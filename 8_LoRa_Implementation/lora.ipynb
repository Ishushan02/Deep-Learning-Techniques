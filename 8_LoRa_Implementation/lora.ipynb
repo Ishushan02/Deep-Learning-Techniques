{
 "cells": [
  {
   "cell_type": "code",
   "execution_count": 36,
   "metadata": {},
   "outputs": [],
   "source": [
    "import torch\n",
    "import torchvision.datasets as dataset\n",
    "import torchvision.transforms as transforms\n",
    "import torch.nn as nn\n",
    "from torch.nn import functional as Fn\n",
    "from tqdm import tqdm\n"
   ]
  },
  {
   "cell_type": "code",
   "execution_count": 37,
   "metadata": {},
   "outputs": [],
   "source": [
    "seed = torch.manual_seed(0)\n"
   ]
  },
  {
   "cell_type": "code",
   "execution_count": 38,
   "metadata": {},
   "outputs": [],
   "source": [
    "import torch.utils\n",
    "import torch.utils.data\n",
    "\n",
    "\n",
    "transform = transforms.Compose([transforms.ToTensor(), transforms.Normalize((0.1307,), (0.3081))])\n",
    "\n",
    "mnistTrain = dataset.MNIST(root=\"/Users/ishananand/Desktop/Deep-Learning-Techniques/dataset\", train=True, transform=transform, download=True)\n",
    "mnistTest = dataset.MNIST(root=\"/Users/ishananand/Desktop/Deep-Learning-Techniques/dataset\", train=False, transform=transform, download=True)\n",
    "\n",
    "trainLoader = torch.utils.data.DataLoader(mnistTrain, batch_size=32, shuffle=True)\n",
    "testLoader = torch.utils.data.DataLoader(mnistTest, batch_size=32, shuffle=True)\n",
    "\n",
    "device = torch.device(\"cpu\")"
   ]
  },
  {
   "cell_type": "code",
   "execution_count": 39,
   "metadata": {},
   "outputs": [],
   "source": [
    "class StrongCustomModel(nn.Module):\n",
    "\n",
    "    def __init__(self, ):\n",
    "        super(StrongCustomModel, self).__init__()\n",
    "        self.linear1 = nn.Linear(in_features=28*28, out_features=264)\n",
    "       \n",
    "        self.linear2 = nn.Linear(in_features=264, out_features =512)\n",
    "        self.linear3 = nn.Linear(in_features=512, out_features =10)\n",
    "\n",
    "    def forward(self, x):\n",
    "        x = x.view(-1, 28 * 28)\n",
    "        x = self.linear1(x)\n",
    "        x = Fn.relu(x)\n",
    "        x = self.linear2(x)\n",
    "        x = Fn.relu(x)\n",
    "        x = self.linear3(x)\n",
    "        return x\n",
    "\n",
    "\n",
    "customModel = StrongCustomModel().to(device)"
   ]
  },
  {
   "cell_type": "code",
   "execution_count": 40,
   "metadata": {},
   "outputs": [
    {
     "name": "stderr",
     "output_type": "stream",
     "text": [
      "Epoch 1: 100%|██████████| 1875/1875 [00:07<00:00, 260.41it/s, loss=0.364]\n",
      "Epoch 2: 100%|██████████| 1875/1875 [00:07<00:00, 248.19it/s, loss=0.156]\n",
      "Epoch 3: 100%|██████████| 1875/1875 [00:06<00:00, 282.47it/s, loss=0.108]\n",
      "Epoch 4: 100%|██████████| 1875/1875 [00:06<00:00, 287.91it/s, loss=0.0809]\n",
      "Epoch 5: 100%|██████████| 1875/1875 [00:06<00:00, 292.66it/s, loss=0.0634]\n"
     ]
    }
   ],
   "source": [
    "def trainModel(trainLoader, model, epochs = 5):\n",
    "    lossFn = nn.CrossEntropyLoss()\n",
    "    optimizer = torch.optim.Adam(lr =  0.0001, params=model.parameters())\n",
    "\n",
    "    for each_spoch in range(epochs):\n",
    "\n",
    "        model.train()\n",
    "\n",
    "        data_iterator = tqdm(trainLoader, desc=f'Epoch {each_spoch + 1}')\n",
    "        num_iteration = 0\n",
    "        lossSum = 0\n",
    "        for data in data_iterator:\n",
    "            num_iteration += 1\n",
    "\n",
    "            x, y = data\n",
    "            x = x.to(device)\n",
    "            y = y.to(device)\n",
    "\n",
    "            optimizer.zero_grad()\n",
    "            \n",
    "            y_pred = model(x.view(-1, 28 * 28))\n",
    "\n",
    "            loss = lossFn(y_pred, y)\n",
    "\n",
    "            lossSum += loss.item()\n",
    "\n",
    "            avg_loss = lossSum/num_iteration\n",
    "\n",
    "            data_iterator.set_postfix(loss = avg_loss)\n",
    "            loss.backward()\n",
    "            optimizer.step()\n",
    "\n",
    "\n",
    "trainModel(trainLoader, customModel)"
   ]
  },
  {
   "cell_type": "code",
   "execution_count": 41,
   "metadata": {},
   "outputs": [
    {
     "data": {
      "text/plain": [
       "348050"
      ]
     },
     "execution_count": 41,
     "metadata": {},
     "output_type": "execute_result"
    }
   ],
   "source": [
    "originalModelWeight = {}\n",
    "for name, parameter in customModel.named_parameters():\n",
    "    originalModelWeight[name] = parameter\n",
    "\n",
    "def count_parameters(model):\n",
    "    total_params = 0\n",
    "    for param in model.parameters():\n",
    "        if param.requires_grad:\n",
    "            total_params += param.numel()\n",
    "    return total_params\n",
    "\n",
    "count_parameters(customModel)"
   ]
  },
  {
   "cell_type": "code",
   "execution_count": 42,
   "metadata": {},
   "outputs": [],
   "source": [
    "class LoRA(nn.Module):\n",
    "    def __init__(self, input_feature, out_feature, rank =1, alpha = 1, device = device):\n",
    "        super(LoRA, self).__init__()\n",
    "        # original size of the model is D*K then the size of A and b is D * r and r * K\n",
    "        self.Avector = nn.Parameter(torch.zeros(rank, out_feature)).to(device)\n",
    "        self.Bvector = nn.Parameter(torch.zeros(input_feature, rank)).to(device)\n",
    "        nn.init.normal(self.Avector, mean = 0, std = 1)\n",
    "\n",
    "        # in the actual Paper it is given that AVecotor is n=initialized with random Gaussian and B with 0's\n",
    "\n",
    "        self.scale = alpha/rank \n",
    "        # The Scale Parameter helps to reduce hyperparameters when we Vary r\n",
    "        self.enable = True\n",
    "\n",
    "    def forward(self, originalModelWeight):\n",
    "        if(self.enable):\n",
    "            return originalModelWeight + torch.matmul(self.Bvector, self.Avector).view(originalModelWeight.shape) * self.scale\n",
    "        else:\n",
    "            return originalModelWeight\n",
    "\n",
    "    \n",
    "\n"
   ]
  },
  {
   "cell_type": "code",
   "execution_count": 43,
   "metadata": {},
   "outputs": [
    {
     "name": "stderr",
     "output_type": "stream",
     "text": [
      "/var/folders/y8/q2s37ndx6tg3lpzp3vp8xk_r0000gn/T/ipykernel_10027/1322633432.py:7: UserWarning: nn.init.normal is now deprecated in favor of nn.init.normal_.\n",
      "  nn.init.normal(self.Avector, mean = 0, std = 1)\n"
     ]
    }
   ],
   "source": [
    "import torch.nn.utils.parametrize as parametrize\n",
    "\n",
    "def linear_layer_parameterization(layer, device, rank=1, lora_alpha=1):\n",
    "    # Only add the parameterization to the weight matrix, ignore the Bias\n",
    "\n",
    "    # From section 4.2 of the paper:\n",
    "    #   We limit our study to only adapting the attention weights for downstream tasks and freeze the MLP modules (so they are not trained in downstream tasks) both for simplicity and parameter-efficiency.\n",
    "    #   [...]\n",
    "    #   We leave the empirical investigation of [...], and biases to a future work.\n",
    "    \n",
    "    features_in, features_out = layer.weight.shape\n",
    "    return LoRA(\n",
    "        features_in, features_out, rank=rank, alpha=lora_alpha, device=device\n",
    "    )\n",
    "\n",
    "parametrize.register_parametrization(\n",
    "    customModel.linear1, \"weight\", linear_layer_parameterization(customModel.linear1, device)\n",
    ")\n",
    "parametrize.register_parametrization(\n",
    "    customModel.linear2, \"weight\", linear_layer_parameterization(customModel.linear2, device)\n",
    ")\n",
    "parametrize.register_parametrization(\n",
    "    customModel.linear3, \"weight\", linear_layer_parameterization(customModel.linear3, device)\n",
    ")\n",
    "\n",
    "\n",
    "def enable_disable_lora(enabled=True):\n",
    "    for layer in [customModel.linear1, customModel.linear2, customModel.linear3]:\n",
    "        layer.parametrizations[\"weight\"][0].enabled = enabled"
   ]
  },
  {
   "cell_type": "code",
   "execution_count": 45,
   "metadata": {},
   "outputs": [
    {
     "name": "stdout",
     "output_type": "stream",
     "text": [
      "Layer 1: W: torch.Size([264, 784]) + B: torch.Size([264]) + Lora_A: torch.Size([1, 784]) + Lora_B: torch.Size([264, 1])\n",
      "Layer 2: W: torch.Size([512, 264]) + B: torch.Size([512]) + Lora_A: torch.Size([1, 264]) + Lora_B: torch.Size([512, 1])\n",
      "Layer 3: W: torch.Size([10, 512]) + B: torch.Size([10]) + Lora_A: torch.Size([1, 512]) + Lora_B: torch.Size([10, 1])\n",
      "Total number of parameters (original): 348,050\n",
      "Total number of parameters (original + LoRA): 350,396\n",
      "Parameters introduced by LoRA: 2,346\n",
      "Parameters incremment: 0.674%\n"
     ]
    }
   ],
   "source": [
    "total_parameters_lora = 0\n",
    "total_parameters_non_lora = 0\n",
    "for index, layer in enumerate([customModel.linear1, customModel.linear2, customModel.linear3]):\n",
    "    total_parameters_lora += layer.parametrizations[\"weight\"][0].Avector.nelement() + layer.parametrizations[\"weight\"][0].Bvector.nelement()\n",
    "    total_parameters_non_lora += layer.weight.nelement() + layer.bias.nelement()\n",
    "    print(\n",
    "        f'Layer {index+1}: W: {layer.weight.shape} + B: {layer.bias.shape} + Lora_A: {layer.parametrizations[\"weight\"][0].Avector.shape} + Lora_B: {layer.parametrizations[\"weight\"][0].Bvector.shape}'\n",
    "    )\n",
    "# The non-LoRA parameters count must match the original network\n",
    "# assert total_parameters_non_lora == originalModelWeight\n",
    "print(f'Total number of parameters (original): {total_parameters_non_lora:,}')\n",
    "print(f'Total number of parameters (original + LoRA): {total_parameters_lora + total_parameters_non_lora:,}')\n",
    "print(f'Parameters introduced by LoRA: {total_parameters_lora:,}')\n",
    "parameters_incremment = (total_parameters_lora / total_parameters_non_lora) * 100\n",
    "print(f'Parameters incremment: {parameters_incremment:.3f}%')"
   ]
  },
  {
   "cell_type": "code",
   "execution_count": null,
   "metadata": {},
   "outputs": [],
   "source": []
  }
 ],
 "metadata": {
  "kernelspec": {
   "display_name": "pyt",
   "language": "python",
   "name": "python3"
  },
  "language_info": {
   "codemirror_mode": {
    "name": "ipython",
    "version": 3
   },
   "file_extension": ".py",
   "mimetype": "text/x-python",
   "name": "python",
   "nbconvert_exporter": "python",
   "pygments_lexer": "ipython3",
   "version": "3.11.10"
  }
 },
 "nbformat": 4,
 "nbformat_minor": 2
}
